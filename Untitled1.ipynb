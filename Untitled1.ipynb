{
 "cells": [
  {
   "cell_type": "code",
   "execution_count": 14,
   "metadata": {},
   "outputs": [],
   "source": [
    "start_x = 245\n",
    "start_y = 293\n",
    "\n",
    "adjust = 100\n",
    "\n",
    "positions_bottom = []\n",
    "for i in range(30):\n",
    "    positions_bottom.append((start_x, start_y))\n",
    "    start_x-=adjust\n",
    "    \n",
    "positions_top = []\n",
    "\n",
    "start_x = 245\n",
    "start_y = 293\n",
    "\n",
    "adjust = 100\n",
    "for i in range(30):\n",
    "    positions_top.append((start_x, start_y-100))\n",
    "    start_x-=adjust\n",
    "#a = iter(positions)\n",
    "\n"
   ]
  },
  {
   "cell_type": "code",
   "execution_count": 16,
   "metadata": {},
   "outputs": [],
   "source": [
    "result = [None]*(len(positions_bottom)+len(positions_top))\n",
    "result[::2] = positions_bottom\n",
    "result[1::2] = positions_top\n",
    "a = iter(result)\n"
   ]
  },
  {
   "cell_type": "code",
   "execution_count": 9,
   "metadata": {},
   "outputs": [],
   "source": [
    "new_l = zip(positions_bottom, positions_top)"
   ]
  },
  {
   "cell_type": "code",
   "execution_count": 18,
   "metadata": {},
   "outputs": [
    {
     "data": {
      "text/plain": [
       "(245, 193)"
      ]
     },
     "execution_count": 18,
     "metadata": {},
     "output_type": "execute_result"
    }
   ],
   "source": [
    "next(a)"
   ]
  },
  {
   "cell_type": "code",
   "execution_count": null,
   "metadata": {},
   "outputs": [],
   "source": []
  }
 ],
 "metadata": {
  "kernelspec": {
   "display_name": "Python 3",
   "language": "python",
   "name": "python3"
  },
  "language_info": {
   "codemirror_mode": {
    "name": "ipython",
    "version": 3
   },
   "file_extension": ".py",
   "mimetype": "text/x-python",
   "name": "python",
   "nbconvert_exporter": "python",
   "pygments_lexer": "ipython3",
   "version": "3.6.6"
  }
 },
 "nbformat": 4,
 "nbformat_minor": 2
}
